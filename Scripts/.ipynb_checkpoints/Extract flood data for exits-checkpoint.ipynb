{
 "cells": [
  {
   "cell_type": "code",
   "execution_count": 1,
   "metadata": {},
   "outputs": [
    {
     "name": "stderr",
     "output_type": "stream",
     "text": [
      "/opt/conda/lib/python3.7/site-packages/arcgis/features/_data/geodataset/utils.py:16: FutureWarning: The pandas.datetime class is deprecated and will be removed from pandas in a future version. Import from datetime module instead.\n",
      "  pd.datetime,\n"
     ]
    }
   ],
   "source": [
    "#Import packages\n",
    "from arcgis import GIS\n",
    "from arcgis.features import FeatureLayer, GeoAccessor"
   ]
  },
  {
   "cell_type": "code",
   "execution_count": 3,
   "metadata": {},
   "outputs": [
    {
     "name": "stdout",
     "output_type": "stream",
     "text": [
      "Enter password: ········\n"
     ]
    }
   ],
   "source": [
    "gis = GIS('https://NSOE.maps.arcgis.com','jpfay_790')"
   ]
  },
  {
   "cell_type": "code",
   "execution_count": 4,
   "metadata": {},
   "outputs": [
    {
     "name": "stdout",
     "output_type": "stream",
     "text": [
      "Logged in as: jpfay_790\n"
     ]
    }
   ],
   "source": [
    "print(\"Logged in as: \" + gis.properties.user.username)"
   ]
  },
  {
   "cell_type": "code",
   "execution_count": 13,
   "metadata": {},
   "outputs": [
    {
     "data": {
      "text/plain": [
       "arcgis.gis.Item"
      ]
     },
     "execution_count": 13,
     "metadata": {},
     "output_type": "execute_result"
    }
   ],
   "source": [
    "flood_layer_service = gis.content.get('11955f1b47ec41a3af86650824e0c634')\n",
    "type(flood_layer_service)"
   ]
  },
  {
   "cell_type": "code",
   "execution_count": 14,
   "metadata": {},
   "outputs": [
    {
     "data": {
      "text/plain": [
       "arcgis.raster._layer.ImageryLayer"
      ]
     },
     "execution_count": 14,
     "metadata": {},
     "output_type": "execute_result"
    }
   ],
   "source": [
    "flood_layer = flood_layer_service.layers[0]\n",
    "type(flood_layer)"
   ]
  },
  {
   "cell_type": "code",
   "execution_count": 18,
   "metadata": {},
   "outputs": [
    {
     "data": {
      "text/plain": [
       "arcgis.features.geo._accessor.GeoAccessor"
      ]
     },
     "execution_count": 18,
     "metadata": {},
     "output_type": "execute_result"
    }
   ],
   "source": [
    "theExits = GeoAccessor.from_featureclass('../Data/MJBA/Exits.shp')\n",
    "type(theExits.spatial)"
   ]
  },
  {
   "cell_type": "code",
   "execution_count": 67,
   "metadata": {},
   "outputs": [
    {
     "data": {
      "text/plain": [
       "arcgis.geometry._types.Point"
      ]
     },
     "execution_count": 67,
     "metadata": {},
     "output_type": "execute_result"
    }
   ],
   "source": [
    "thePoint = theExits.at[55,'SHAPE']\n",
    "type(thePoint)"
   ]
  },
  {
   "cell_type": "code",
   "execution_count": 69,
   "metadata": {},
   "outputs": [],
   "source": [
    "theValue = flood_layer.identify(thePoint)['value']\n",
    "theValue = '3'"
   ]
  },
  {
   "cell_type": "code",
   "execution_count": 55,
   "metadata": {
    "collapsed": true
   },
   "outputs": [
    {
     "data": {
      "text/plain": [
       "[{'attributes': {'OBJECTID': 1,\n",
       "   'FREQUENCY': 963562,\n",
       "   'Value': 1,\n",
       "   'Red': 142,\n",
       "   'Green': 52,\n",
       "   'Blue': 148,\n",
       "   'ClassName': '1% Annual Chance Flood Hazard'}},\n",
       " {'attributes': {'OBJECTID': 2,\n",
       "   'FREQUENCY': 38339,\n",
       "   'Value': 2,\n",
       "   'Red': 118,\n",
       "   'Green': 156,\n",
       "   'Blue': 205,\n",
       "   'ClassName': 'Regulatory Floodway'}},\n",
       " {'attributes': {'OBJECTID': 3,\n",
       "   'FREQUENCY': 67,\n",
       "   'Value': 3,\n",
       "   'Red': 129,\n",
       "   'Green': 192,\n",
       "   'Blue': 201,\n",
       "   'ClassName': 'Special Floodway'}},\n",
       " {'attributes': {'OBJECTID': 4,\n",
       "   'FREQUENCY': 3274,\n",
       "   'Value': 4,\n",
       "   'Red': 210,\n",
       "   'Green': 212,\n",
       "   'Blue': 207,\n",
       "   'ClassName': 'Area of Undetermined Flood Hazard'}},\n",
       " {'attributes': {'OBJECTID': 5,\n",
       "   'FREQUENCY': 1053911,\n",
       "   'Value': 5,\n",
       "   'Red': 157,\n",
       "   'Green': 125,\n",
       "   'Blue': 192,\n",
       "   'ClassName': '0.2% Annual Chance Flood Hazard'}},\n",
       " {'attributes': {'OBJECTID': 6,\n",
       "   'FREQUENCY': 31608,\n",
       "   'Value': 6,\n",
       "   'Red': 245,\n",
       "   'Green': 200,\n",
       "   'Blue': 179,\n",
       "   'ClassName': 'Future Conditions 1% Annual Chance Flood Hazard'}},\n",
       " {'attributes': {'OBJECTID': 7,\n",
       "   'FREQUENCY': 18870,\n",
       "   'Value': 7,\n",
       "   'Red': 229,\n",
       "   'Green': 208,\n",
       "   'Blue': 153,\n",
       "   'ClassName': 'Area with Reduced Risk Due to Levee'}},\n",
       " {'attributes': {'OBJECTID': 8,\n",
       "   'FREQUENCY': 425982,\n",
       "   'Value': 8,\n",
       "   'Red': 237,\n",
       "   'Green': 241,\n",
       "   'Blue': 206,\n",
       "   'ClassName': 'Area of Minimal Flood Hazard'}}]"
      ]
     },
     "execution_count": 55,
     "metadata": {},
     "output_type": "execute_result"
    }
   ],
   "source": [
    "theAttributes = flood_layer.attribute_table()['features']\n",
    "theAttributes"
   ]
  },
  {
   "cell_type": "code",
   "execution_count": 57,
   "metadata": {},
   "outputs": [
    {
     "data": {
      "text/plain": [
       "['1% Annual Chance Flood Hazard',\n",
       " 'Regulatory Floodway',\n",
       " 'Special Floodway',\n",
       " 'Area of Undetermined Flood Hazard',\n",
       " '0.2% Annual Chance Flood Hazard',\n",
       " 'Future Conditions 1% Annual Chance Flood Hazard',\n",
       " 'Area with Reduced Risk Due to Levee',\n",
       " 'Area of Minimal Flood Hazard']"
      ]
     },
     "execution_count": 57,
     "metadata": {},
     "output_type": "execute_result"
    }
   ],
   "source": [
    "classNames = []\n",
    "for theAttribute in theAttributes:\n",
    "    className = theAttribute['attributes']['ClassName']\n",
    "    classNames.append(className)\n",
    "    \n",
    "classNames"
   ]
  },
  {
   "cell_type": "code",
   "execution_count": 70,
   "metadata": {},
   "outputs": [
    {
     "data": {
      "text/plain": [
       "'Special Floodway'"
      ]
     },
     "execution_count": 70,
     "metadata": {},
     "output_type": "execute_result"
    }
   ],
   "source": [
    "classNames[int(theValue)-1]"
   ]
  },
  {
   "cell_type": "code",
   "execution_count": 71,
   "metadata": {},
   "outputs": [],
   "source": [
    "def getFloodClass(thePoint):\n",
    "    return classNames[int(flood_layer.identify(thePoint)['value'])-1]"
   ]
  },
  {
   "cell_type": "code",
   "execution_count": 74,
   "metadata": {},
   "outputs": [
    {
     "data": {
      "text/plain": [
       "'Area of Minimal Flood Hazard'"
      ]
     },
     "execution_count": 74,
     "metadata": {},
     "output_type": "execute_result"
    }
   ],
   "source": [
    "getFloodClass(theExits.at[80,'SHAPE'])"
   ]
  },
  {
   "cell_type": "code",
   "execution_count": 75,
   "metadata": {},
   "outputs": [],
   "source": [
    "theExits['Flood_cat'] = theExits['SHAPE'].apply(lambda x: getFloodClass(x))"
   ]
  },
  {
   "cell_type": "code",
   "execution_count": 76,
   "metadata": {},
   "outputs": [
    {
     "data": {
      "text/html": [
       "<div>\n",
       "<style scoped>\n",
       "    .dataframe tbody tr th:only-of-type {\n",
       "        vertical-align: middle;\n",
       "    }\n",
       "\n",
       "    .dataframe tbody tr th {\n",
       "        vertical-align: top;\n",
       "    }\n",
       "\n",
       "    .dataframe thead th {\n",
       "        text-align: right;\n",
       "    }\n",
       "</style>\n",
       "<table border=\"1\" class=\"dataframe\">\n",
       "  <thead>\n",
       "    <tr style=\"text-align: right;\">\n",
       "      <th></th>\n",
       "      <th>index</th>\n",
       "      <th>FID</th>\n",
       "      <th>Exit_ID</th>\n",
       "      <th>Longitude</th>\n",
       "      <th>Latitude</th>\n",
       "      <th>County</th>\n",
       "      <th>State</th>\n",
       "      <th>Highway</th>\n",
       "      <th>Type</th>\n",
       "      <th>AADT</th>\n",
       "      <th>Pop_dens</th>\n",
       "      <th>Comm_1mi</th>\n",
       "      <th>Ports_5mi</th>\n",
       "      <th>Ports_10mi</th>\n",
       "      <th>Ports_20mi</th>\n",
       "      <th>Close_nonT</th>\n",
       "      <th>SHAPE</th>\n",
       "      <th>Flood_cat</th>\n",
       "    </tr>\n",
       "  </thead>\n",
       "  <tbody>\n",
       "    <tr>\n",
       "      <th>0</th>\n",
       "      <td>0</td>\n",
       "      <td>7059</td>\n",
       "      <td>US-64_Cherokee_NC_Exit_1</td>\n",
       "      <td>-84.314304</td>\n",
       "      <td>35.019492</td>\n",
       "      <td>Cherokee</td>\n",
       "      <td>NC</td>\n",
       "      <td>U.S. Highway 64</td>\n",
       "      <td>Exit/Intersection</td>\n",
       "      <td>3700</td>\n",
       "      <td>60.34979</td>\n",
       "      <td>1</td>\n",
       "      <td>0</td>\n",
       "      <td>0</td>\n",
       "      <td>0</td>\n",
       "      <td>34.094152</td>\n",
       "      <td>{'x': -84.31430368976345, 'y': 35.019491849669...</td>\n",
       "      <td>Area of Minimal Flood Hazard</td>\n",
       "    </tr>\n",
       "    <tr>\n",
       "      <th>1</th>\n",
       "      <td>1</td>\n",
       "      <td>7060</td>\n",
       "      <td>US-64_Cherokee_NC_Exit_2</td>\n",
       "      <td>-84.311492</td>\n",
       "      <td>35.014933</td>\n",
       "      <td>Cherokee</td>\n",
       "      <td>NC</td>\n",
       "      <td>U.S. Highway 64</td>\n",
       "      <td>Exit/Intersection</td>\n",
       "      <td>3700</td>\n",
       "      <td>60.34979</td>\n",
       "      <td>1</td>\n",
       "      <td>0</td>\n",
       "      <td>0</td>\n",
       "      <td>0</td>\n",
       "      <td>34.365230</td>\n",
       "      <td>{'x': -84.31149165991212, 'y': 35.014933379571...</td>\n",
       "      <td>Area of Minimal Flood Hazard</td>\n",
       "    </tr>\n",
       "    <tr>\n",
       "      <th>2</th>\n",
       "      <td>2</td>\n",
       "      <td>7061</td>\n",
       "      <td>US-64_Cherokee_NC_Exit_3</td>\n",
       "      <td>-84.295528</td>\n",
       "      <td>35.013561</td>\n",
       "      <td>Cherokee</td>\n",
       "      <td>NC</td>\n",
       "      <td>U.S. Highway 64</td>\n",
       "      <td>Exit/Intersection</td>\n",
       "      <td>3900</td>\n",
       "      <td>60.34979</td>\n",
       "      <td>0</td>\n",
       "      <td>0</td>\n",
       "      <td>0</td>\n",
       "      <td>0</td>\n",
       "      <td>35.233979</td>\n",
       "      <td>{'x': -84.29552778977563, 'y': 35.013560589649...</td>\n",
       "      <td>Area of Minimal Flood Hazard</td>\n",
       "    </tr>\n",
       "    <tr>\n",
       "      <th>3</th>\n",
       "      <td>3</td>\n",
       "      <td>7062</td>\n",
       "      <td>US-64_Cherokee_NC_Exit_4</td>\n",
       "      <td>-84.280291</td>\n",
       "      <td>35.012880</td>\n",
       "      <td>Cherokee</td>\n",
       "      <td>NC</td>\n",
       "      <td>U.S. Highway 64</td>\n",
       "      <td>Exit/Intersection</td>\n",
       "      <td>3900</td>\n",
       "      <td>60.34979</td>\n",
       "      <td>0</td>\n",
       "      <td>0</td>\n",
       "      <td>0</td>\n",
       "      <td>0</td>\n",
       "      <td>36.048303</td>\n",
       "      <td>{'x': -84.28029090010494, 'y': 35.012879950349...</td>\n",
       "      <td>Area of Minimal Flood Hazard</td>\n",
       "    </tr>\n",
       "    <tr>\n",
       "      <th>4</th>\n",
       "      <td>4</td>\n",
       "      <td>7063</td>\n",
       "      <td>US-64_Cherokee_NC_Exit_5</td>\n",
       "      <td>-84.275190</td>\n",
       "      <td>35.017816</td>\n",
       "      <td>Cherokee</td>\n",
       "      <td>NC</td>\n",
       "      <td>U.S. Highway 64</td>\n",
       "      <td>Exit/Intersection</td>\n",
       "      <td>3900</td>\n",
       "      <td>60.34979</td>\n",
       "      <td>0</td>\n",
       "      <td>0</td>\n",
       "      <td>0</td>\n",
       "      <td>0</td>\n",
       "      <td>36.186597</td>\n",
       "      <td>{'x': -84.27519011992803, 'y': 35.017816120417...</td>\n",
       "      <td>Area of Minimal Flood Hazard</td>\n",
       "    </tr>\n",
       "  </tbody>\n",
       "</table>\n",
       "</div>"
      ],
      "text/plain": [
       "   index   FID                   Exit_ID  Longitude   Latitude    County  \\\n",
       "0      0  7059  US-64_Cherokee_NC_Exit_1 -84.314304  35.019492  Cherokee   \n",
       "1      1  7060  US-64_Cherokee_NC_Exit_2 -84.311492  35.014933  Cherokee   \n",
       "2      2  7061  US-64_Cherokee_NC_Exit_3 -84.295528  35.013561  Cherokee   \n",
       "3      3  7062  US-64_Cherokee_NC_Exit_4 -84.280291  35.012880  Cherokee   \n",
       "4      4  7063  US-64_Cherokee_NC_Exit_5 -84.275190  35.017816  Cherokee   \n",
       "\n",
       "  State          Highway               Type  AADT  Pop_dens  Comm_1mi  \\\n",
       "0    NC  U.S. Highway 64  Exit/Intersection  3700  60.34979         1   \n",
       "1    NC  U.S. Highway 64  Exit/Intersection  3700  60.34979         1   \n",
       "2    NC  U.S. Highway 64  Exit/Intersection  3900  60.34979         0   \n",
       "3    NC  U.S. Highway 64  Exit/Intersection  3900  60.34979         0   \n",
       "4    NC  U.S. Highway 64  Exit/Intersection  3900  60.34979         0   \n",
       "\n",
       "   Ports_5mi  Ports_10mi  Ports_20mi  Close_nonT  \\\n",
       "0          0           0           0   34.094152   \n",
       "1          0           0           0   34.365230   \n",
       "2          0           0           0   35.233979   \n",
       "3          0           0           0   36.048303   \n",
       "4          0           0           0   36.186597   \n",
       "\n",
       "                                               SHAPE  \\\n",
       "0  {'x': -84.31430368976345, 'y': 35.019491849669...   \n",
       "1  {'x': -84.31149165991212, 'y': 35.014933379571...   \n",
       "2  {'x': -84.29552778977563, 'y': 35.013560589649...   \n",
       "3  {'x': -84.28029090010494, 'y': 35.012879950349...   \n",
       "4  {'x': -84.27519011992803, 'y': 35.017816120417...   \n",
       "\n",
       "                      Flood_cat  \n",
       "0  Area of Minimal Flood Hazard  \n",
       "1  Area of Minimal Flood Hazard  \n",
       "2  Area of Minimal Flood Hazard  \n",
       "3  Area of Minimal Flood Hazard  \n",
       "4  Area of Minimal Flood Hazard  "
      ]
     },
     "execution_count": 76,
     "metadata": {},
     "output_type": "execute_result"
    }
   ],
   "source": [
    "theExits.head()"
   ]
  },
  {
   "cell_type": "code",
   "execution_count": 77,
   "metadata": {},
   "outputs": [],
   "source": [
    "theExits.to_csv('../Data/processed/exits_with_flood.csv')"
   ]
  },
  {
   "cell_type": "code",
   "execution_count": 78,
   "metadata": {},
   "outputs": [
    {
     "data": {
      "text/plain": [
       "'../Data/processed/exits_flood.shp'"
      ]
     },
     "execution_count": 78,
     "metadata": {},
     "output_type": "execute_result"
    }
   ],
   "source": [
    "#Save out modified dataframe to a shapefile\n",
    "theExits.spatial.to_featureclass('../Data/processed/exits_flood.shp')"
   ]
  },
  {
   "cell_type": "code",
   "execution_count": 81,
   "metadata": {},
   "outputs": [
    {
     "data": {
      "text/plain": [
       "Area of Minimal Flood Hazard                       1090\n",
       "1% Annual Chance Flood Hazard                        58\n",
       "0.2% Annual Chance Flood Hazard                      24\n",
       "Regulatory Floodway                                   4\n",
       "Future Conditions 1% Annual Chance Flood Hazard       2\n",
       "Name: Flood_cat, dtype: int64"
      ]
     },
     "execution_count": 81,
     "metadata": {},
     "output_type": "execute_result"
    }
   ],
   "source": [
    "theExits['Flood_cat'].value_counts()"
   ]
  },
  {
   "cell_type": "code",
   "execution_count": null,
   "metadata": {},
   "outputs": [],
   "source": []
  }
 ],
 "metadata": {
  "kernelspec": {
   "display_name": "Python 3",
   "language": "python",
   "name": "python3"
  },
  "language_info": {
   "codemirror_mode": {
    "name": "ipython",
    "version": 3
   },
   "file_extension": ".py",
   "mimetype": "text/x-python",
   "name": "python",
   "nbconvert_exporter": "python",
   "pygments_lexer": "ipython3",
   "version": "3.7.3"
  }
 },
 "nbformat": 4,
 "nbformat_minor": 2
}
