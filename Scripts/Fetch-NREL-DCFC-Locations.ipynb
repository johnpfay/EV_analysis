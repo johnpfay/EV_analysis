{
 "cells": [
  {
   "cell_type": "code",
   "execution_count": 1,
   "metadata": {},
   "outputs": [],
   "source": [
    "import requests\n",
    "import pandas as pd"
   ]
  },
  {
   "cell_type": "code",
   "execution_count": 2,
   "metadata": {},
   "outputs": [],
   "source": [
    "key = open('NREL_key.txt','r').readline()"
   ]
  },
  {
   "cell_type": "code",
   "execution_count": 3,
   "metadata": {},
   "outputs": [],
   "source": [
    "#Construct the service request\n",
    "baseURL = 'https://developer.nrel.gov/api/alt-fuel-stations/v1.json?'\n",
    "params = {\n",
    "    'api_key':key,                #Our key, to authenticate the service\n",
    "    'status':'E',                 #Request only currently open sites \n",
    "    'fuel_type':'ELEC',           #Request only Electric sites\n",
    "    'ev_charging_level':'dc_fast',#Request only DCFC sites\n",
    "    'state':'NC' ,                #Request only NC sites\n",
    "    'access':'public',            #Request only Public sites\n",
    "    'groups_with_access_code':'Public', #Request only sites open to Public\n",
    "    'limit':'all'                 #Don't cap results to first 200 (default)\n",
    "}"
   ]
  },
  {
   "cell_type": "code",
   "execution_count": 4,
   "metadata": {},
   "outputs": [
    {
     "name": "stdout",
     "output_type": "stream",
     "text": [
      "86 records retrieved\n"
     ]
    }
   ],
   "source": [
    "#Execute the request, converting the response to a dataframe\n",
    "df_ALL = pd.DataFrame.from_dict(requests.get(baseURL,params).json()['fuel_stations'])\n",
    "print(f'{len(df_ALL)} records retrieved')"
   ]
  },
  {
   "cell_type": "code",
   "execution_count": 5,
   "metadata": {},
   "outputs": [],
   "source": [
    "#Drop excess columns\n",
    "dropCols = [col for col in df_ALL.columns if col[:3] in ('bd_','cng','hy_','ng_','e85','lng','lpg')]\n",
    "dropCols += [col for col in df_ALL.columns if col[-2:] == 'fr']\n",
    "df_ALL.drop(columns = dropCols,inplace=True)"
   ]
  },
  {
   "cell_type": "code",
   "execution_count": 6,
   "metadata": {},
   "outputs": [],
   "source": [
    "#Remove sites in the Tesla network\n",
    "df_DCFC = df_ALL.loc[df_ALL['ev_network'] != 'Tesla'].reset_index()"
   ]
  },
  {
   "cell_type": "code",
   "execution_count": 7,
   "metadata": {},
   "outputs": [],
   "source": [
    "df_DCFC.to_csv('../Data/NREL/DCFC.csv',index=False)"
   ]
  }
 ],
 "metadata": {
  "kernelspec": {
   "display_name": "Python 3",
   "language": "python",
   "name": "python3"
  },
  "language_info": {
   "codemirror_mode": {
    "name": "ipython",
    "version": 3
   },
   "file_extension": ".py",
   "mimetype": "text/x-python",
   "name": "python",
   "nbconvert_exporter": "python",
   "pygments_lexer": "ipython3",
   "version": "3.7.3"
  }
 },
 "nbformat": 4,
 "nbformat_minor": 2
}
