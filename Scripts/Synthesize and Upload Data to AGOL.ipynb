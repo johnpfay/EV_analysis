{
 "cells": [
  {
   "cell_type": "code",
   "execution_count": 3,
   "metadata": {},
   "outputs": [],
   "source": [
    "#Import packages\n",
    "from arcgis import GIS\n",
    "import pandas as pd\n",
    "from arcgis.features import GeoAccessor "
   ]
  },
  {
   "cell_type": "code",
   "execution_count": 4,
   "metadata": {},
   "outputs": [
    {
     "name": "stdout",
     "output_type": "stream",
     "text": [
      "Enter password: ········\n"
     ]
    }
   ],
   "source": [
    "#Create an authenticated link to our ArcGIS Online account\n",
    "gis = GIS(url='https://NSOE.maps.arcgis.com',username='jpfay_790')"
   ]
  },
  {
   "cell_type": "code",
   "execution_count": 34,
   "metadata": {},
   "outputs": [],
   "source": [
    "#Read local datasets into spatial dataframes\n",
    "sdf_Exit = GeoAccessor.from_featureclass('../Data/MJBA/Exits.shp')\n",
    "sdf_flood = GeoAccessor.from_featureclass('../Data/processed/exits_flood.shp')\n",
    "sdf_EucDist = GeoAccessor.from_featureclass('../Data/processed/Exits_distance_to_DCFC.shp')\n",
    "sdf_AmenityCount = GeoAccessor.from_featureclass('../Data/processed/exits_amenities.shp')\n",
    "sdf_DriveDist = GeoAccessor.from_featureclass('../Data/processed/exits_distances.shp')\n",
    "sdf_DistToPower = GeoAccessor.from_featureclass('../Data/processed/Exits_distance_to_Power.shp')"
   ]
  },
  {
   "cell_type": "code",
   "execution_count": 35,
   "metadata": {},
   "outputs": [],
   "source": [
    "#Remove extraneous columns\n",
    "sdf_Exit = sdf_Exit[['FID','Longitude','Latitude','County','SHAPE']].set_index(['FID'])\n",
    "sdf_flood = sdf_flood[['FID','Flood_cat']].set_index(['FID'])\n",
    "sdf_EucDist = sdf_EucDist[['FID','Dist_to_DC']].set_index(['FID'])\n",
    "sdf_AmenityCount = sdf_AmenityCount[['FID','amenity_n']].set_index(['FID'])\n",
    "sdf_DriveDist = sdf_DriveDist[['FID','distance']].set_index(['FID'])\n",
    "sdf_DistToPower = sdf_DistToPower[['FID','Dist_to_Pw']].set_index(['FID'])"
   ]
  },
  {
   "cell_type": "code",
   "execution_count": 45,
   "metadata": {},
   "outputs": [],
   "source": [
    "#Join all data to master geodataframe\n",
    "sdf_Master = pd.merge(left=sdf_Exit,right=sdf_flood,how='left',left_index=True,right_index=True)\n",
    "sdf_Master = pd.merge(left=sdf_Master,right=sdf_EucDist,how='left',left_index=True,right_index=True)\n",
    "sdf_Master = pd.merge(left=sdf_Master,right=sdf_AmenityCount,how='left',left_index=True,right_index=True)\n",
    "sdf_Master = pd.merge(left=sdf_Master,right=sdf_DriveDist,how='left',left_index=True,right_index=True)\n",
    "sdf_Master = pd.merge(left=sdf_Master,right=sdf_DistToPower,how='left',left_index=True,right_index=True)"
   ]
  },
  {
   "cell_type": "code",
   "execution_count": 46,
   "metadata": {},
   "outputs": [
    {
     "data": {
      "text/html": [
       "<div>\n",
       "<style scoped>\n",
       "    .dataframe tbody tr th:only-of-type {\n",
       "        vertical-align: middle;\n",
       "    }\n",
       "\n",
       "    .dataframe tbody tr th {\n",
       "        vertical-align: top;\n",
       "    }\n",
       "\n",
       "    .dataframe thead th {\n",
       "        text-align: right;\n",
       "    }\n",
       "</style>\n",
       "<table border=\"1\" class=\"dataframe\">\n",
       "  <thead>\n",
       "    <tr style=\"text-align: right;\">\n",
       "      <th></th>\n",
       "      <th>Longitude</th>\n",
       "      <th>Latitude</th>\n",
       "      <th>County</th>\n",
       "      <th>SHAPE</th>\n",
       "      <th>Flood_cat</th>\n",
       "      <th>Dist_to_DC</th>\n",
       "      <th>amenity_n</th>\n",
       "      <th>distance</th>\n",
       "      <th>Dist_to_Pw</th>\n",
       "    </tr>\n",
       "    <tr>\n",
       "      <th>FID</th>\n",
       "      <th></th>\n",
       "      <th></th>\n",
       "      <th></th>\n",
       "      <th></th>\n",
       "      <th></th>\n",
       "      <th></th>\n",
       "      <th></th>\n",
       "      <th></th>\n",
       "      <th></th>\n",
       "    </tr>\n",
       "  </thead>\n",
       "  <tbody>\n",
       "    <tr>\n",
       "      <th>7059</th>\n",
       "      <td>-84.314304</td>\n",
       "      <td>35.019492</td>\n",
       "      <td>Cherokee</td>\n",
       "      <td>{'x': -84.31430368976345, 'y': 35.019491849669...</td>\n",
       "      <td>Area of Minimal Flood Hazard</td>\n",
       "      <td>103.022794</td>\n",
       "      <td>0</td>\n",
       "      <td>NaN</td>\n",
       "      <td>5.987276</td>\n",
       "    </tr>\n",
       "    <tr>\n",
       "      <th>7060</th>\n",
       "      <td>-84.311492</td>\n",
       "      <td>35.014933</td>\n",
       "      <td>Cherokee</td>\n",
       "      <td>{'x': -84.31149165991212, 'y': 35.014933379571...</td>\n",
       "      <td>Area of Minimal Flood Hazard</td>\n",
       "      <td>102.983699</td>\n",
       "      <td>0</td>\n",
       "      <td>NaN</td>\n",
       "      <td>5.879956</td>\n",
       "    </tr>\n",
       "    <tr>\n",
       "      <th>7061</th>\n",
       "      <td>-84.295528</td>\n",
       "      <td>35.013561</td>\n",
       "      <td>Cherokee</td>\n",
       "      <td>{'x': -84.29552778977563, 'y': 35.013560589649...</td>\n",
       "      <td>Area of Minimal Flood Hazard</td>\n",
       "      <td>102.169982</td>\n",
       "      <td>0</td>\n",
       "      <td>NaN</td>\n",
       "      <td>5.014686</td>\n",
       "    </tr>\n",
       "    <tr>\n",
       "      <th>7062</th>\n",
       "      <td>-84.280291</td>\n",
       "      <td>35.012880</td>\n",
       "      <td>Cherokee</td>\n",
       "      <td>{'x': -84.28029090010494, 'y': 35.012879950349...</td>\n",
       "      <td>Area of Minimal Flood Hazard</td>\n",
       "      <td>101.379188</td>\n",
       "      <td>0</td>\n",
       "      <td>NaN</td>\n",
       "      <td>4.193707</td>\n",
       "    </tr>\n",
       "    <tr>\n",
       "      <th>7063</th>\n",
       "      <td>-84.275190</td>\n",
       "      <td>35.017816</td>\n",
       "      <td>Cherokee</td>\n",
       "      <td>{'x': -84.27519011992803, 'y': 35.017816120417...</td>\n",
       "      <td>Area of Minimal Flood Hazard</td>\n",
       "      <td>100.986949</td>\n",
       "      <td>0</td>\n",
       "      <td>NaN</td>\n",
       "      <td>3.823759</td>\n",
       "    </tr>\n",
       "  </tbody>\n",
       "</table>\n",
       "</div>"
      ],
      "text/plain": [
       "      Longitude   Latitude    County  \\\n",
       "FID                                    \n",
       "7059 -84.314304  35.019492  Cherokee   \n",
       "7060 -84.311492  35.014933  Cherokee   \n",
       "7061 -84.295528  35.013561  Cherokee   \n",
       "7062 -84.280291  35.012880  Cherokee   \n",
       "7063 -84.275190  35.017816  Cherokee   \n",
       "\n",
       "                                                  SHAPE  \\\n",
       "FID                                                       \n",
       "7059  {'x': -84.31430368976345, 'y': 35.019491849669...   \n",
       "7060  {'x': -84.31149165991212, 'y': 35.014933379571...   \n",
       "7061  {'x': -84.29552778977563, 'y': 35.013560589649...   \n",
       "7062  {'x': -84.28029090010494, 'y': 35.012879950349...   \n",
       "7063  {'x': -84.27519011992803, 'y': 35.017816120417...   \n",
       "\n",
       "                         Flood_cat  Dist_to_DC  amenity_n  distance  \\\n",
       "FID                                                                   \n",
       "7059  Area of Minimal Flood Hazard  103.022794          0       NaN   \n",
       "7060  Area of Minimal Flood Hazard  102.983699          0       NaN   \n",
       "7061  Area of Minimal Flood Hazard  102.169982          0       NaN   \n",
       "7062  Area of Minimal Flood Hazard  101.379188          0       NaN   \n",
       "7063  Area of Minimal Flood Hazard  100.986949          0       NaN   \n",
       "\n",
       "      Dist_to_Pw  \n",
       "FID               \n",
       "7059    5.987276  \n",
       "7060    5.879956  \n",
       "7061    5.014686  \n",
       "7062    4.193707  \n",
       "7063    3.823759  "
      ]
     },
     "execution_count": 46,
     "metadata": {},
     "output_type": "execute_result"
    }
   ],
   "source": [
    "#Fix Euc dist - change from meters to miles\n",
    "sdf_Master['Dist_to_DC'] = sdf_Master['Dist_to_DC']/1609.34\n",
    "sdf_Master.head()"
   ]
  },
  {
   "cell_type": "code",
   "execution_count": 47,
   "metadata": {},
   "outputs": [
    {
     "data": {
      "text/plain": [
       "'../Data/processed/Final_exits.shp'"
      ]
     },
     "execution_count": 47,
     "metadata": {},
     "output_type": "execute_result"
    }
   ],
   "source": [
    "#Save to file\n",
    "sdf_Master.spatial.to_featureclass('../Data/processed/Final_exits.shp')"
   ]
  },
  {
   "cell_type": "code",
   "execution_count": 48,
   "metadata": {},
   "outputs": [],
   "source": [
    "#import NREL CSV as dataframe\n",
    "DCFC_df = pd.read_csv('../Data/NREL/DCFC.csv')"
   ]
  },
  {
   "cell_type": "code",
   "execution_count": 52,
   "metadata": {},
   "outputs": [],
   "source": [
    "#Convert dataframe to arcgis spatial dataframe\n",
    "DCFC_sdf = GeoAccessor.from_xy(DCFC_df,x_column='longitude',y_column='latitude',sr=4326)"
   ]
  },
  {
   "cell_type": "code",
   "execution_count": 56,
   "metadata": {},
   "outputs": [],
   "source": [
    "DCFC_lyr = DCFC_sdf.spatial.to_featurelayer(title=\"NREL DC Fast Charger Site\",\n",
    "                                    tags=\"ENV790, EV Charger, NREL\")"
   ]
  },
  {
   "cell_type": "code",
   "execution_count": 57,
   "metadata": {},
   "outputs": [
    {
     "data": {
      "text/html": [
       "<div class=\"item_container\" style=\"height: auto; overflow: hidden; border: 1px solid #cfcfcf; border-radius: 2px; background: #f6fafa; line-height: 1.21429em; padding: 10px;\">\n",
       "                    <div class=\"item_left\" style=\"width: 210px; float: left;\">\n",
       "                       <a href='https://NSOE.maps.arcgis.com/home/item.html?id=1c50afb96d3e4c1cb349a27f2f2c1a5e' target='_blank'>\n",
       "                        <img src='http://static.arcgis.com/images/desktopapp.png' class=\"itemThumbnail\">\n",
       "                       </a>\n",
       "                    </div>\n",
       "\n",
       "                    <div class=\"item_right\"     style=\"float: none; width: auto; overflow: hidden;\">\n",
       "                        <a href='https://NSOE.maps.arcgis.com/home/item.html?id=1c50afb96d3e4c1cb349a27f2f2c1a5e' target='_blank'><b>NREL DC Fast Charger Site</b>\n",
       "                        </a>\n",
       "                        <br/><img src='https://NSOE.maps.arcgis.com/home/js/jsapi/esri/css/images/item_type_icons/featureshosted16.png' style=\"vertical-align:middle;\">Feature Layer Collection by jpfay_790\n",
       "                        <br/>Last Modified: April 15, 2020\n",
       "                        <br/>0 comments, 0 views\n",
       "                    </div>\n",
       "                </div>\n",
       "                "
      ],
      "text/plain": [
       "<Item title:\"NREL DC Fast Charger Site\" type:Feature Layer Collection owner:jpfay_790>"
      ]
     },
     "execution_count": 57,
     "metadata": {},
     "output_type": "execute_result"
    }
   ],
   "source": [
    "DCFC_lyr"
   ]
  },
  {
   "cell_type": "code",
   "execution_count": 59,
   "metadata": {},
   "outputs": [
    {
     "data": {
      "text/plain": [
       "True"
      ]
     },
     "execution_count": 59,
     "metadata": {},
     "output_type": "execute_result"
    }
   ],
   "source": [
    "#Construct the dictionary of feature layer properties\n",
    "featLayer_properties = {\n",
    "    'snippet':\"NREL DC Fast Charging site. Extracted and subset via the NREL API\",\n",
    "    'summary':\"These data were extracted from the NREL API, subset using the following criteria...\"\n",
    "}\n",
    "#Apply the changes\n",
    "DCFC_lyr.update(featLayer_properties)"
   ]
  },
  {
   "cell_type": "code",
   "execution_count": 60,
   "metadata": {},
   "outputs": [
    {
     "data": {
      "text/html": [
       "<div class=\"item_container\" style=\"height: auto; overflow: hidden; border: 1px solid #cfcfcf; border-radius: 2px; background: #f6fafa; line-height: 1.21429em; padding: 10px;\">\n",
       "                    <div class=\"item_left\" style=\"width: 210px; float: left;\">\n",
       "                       <a href='https://NSOE.maps.arcgis.com/home/item.html?id=1c50afb96d3e4c1cb349a27f2f2c1a5e' target='_blank'>\n",
       "                        <img src='data:image/png;base64,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' width='200' height='133' class=\"itemThumbnail\">\n",
       "                       </a>\n",
       "                    </div>\n",
       "\n",
       "                    <div class=\"item_right\"     style=\"float: none; width: auto; overflow: hidden;\">\n",
       "                        <a href='https://NSOE.maps.arcgis.com/home/item.html?id=1c50afb96d3e4c1cb349a27f2f2c1a5e' target='_blank'><b>NREL DC Fast Charger Site</b>\n",
       "                        </a>\n",
       "                        <br/>NREL DC Fast Charging site. Extracted and subset via the NREL API<img src='https://NSOE.maps.arcgis.com/home/js/jsapi/esri/css/images/item_type_icons/featureshosted16.png' style=\"vertical-align:middle;\">Feature Layer Collection by jpfay_790\n",
       "                        <br/>Last Modified: April 15, 2020\n",
       "                        <br/>0 comments, 2 views\n",
       "                    </div>\n",
       "                </div>\n",
       "                "
      ],
      "text/plain": [
       "<Item title:\"NREL DC Fast Charger Site\" type:Feature Layer Collection owner:jpfay_790>"
      ]
     },
     "execution_count": 60,
     "metadata": {},
     "output_type": "execute_result"
    }
   ],
   "source": [
    "DCFC_lyr"
   ]
  },
  {
   "cell_type": "code",
   "execution_count": 61,
   "metadata": {},
   "outputs": [
    {
     "data": {
      "text/plain": [
       "{'results': [{'itemId': '1c50afb96d3e4c1cb349a27f2f2c1a5e',\n",
       "   'success': True,\n",
       "   'notSharedWith': []}]}"
      ]
     },
     "execution_count": 61,
     "metadata": {},
     "output_type": "execute_result"
    }
   ],
   "source": [
    "DCFC_lyr.share(org=True)"
   ]
  },
  {
   "cell_type": "code",
   "execution_count": 62,
   "metadata": {},
   "outputs": [],
   "source": [
    "lyr_master = sdf_Master.spatial.to_featurelayer(title=\"Candidate Charger Sites\",\n",
    "                                    tags=\"ENV790, EV Charger, NREL\")"
   ]
  },
  {
   "cell_type": "code",
   "execution_count": null,
   "metadata": {},
   "outputs": [],
   "source": []
  }
 ],
 "metadata": {
  "kernelspec": {
   "display_name": "Python 3",
   "language": "python",
   "name": "python3"
  },
  "language_info": {
   "codemirror_mode": {
    "name": "ipython",
    "version": 3
   },
   "file_extension": ".py",
   "mimetype": "text/x-python",
   "name": "python",
   "nbconvert_exporter": "python",
   "pygments_lexer": "ipython3",
   "version": "3.7.3"
  }
 },
 "nbformat": 4,
 "nbformat_minor": 2
}
